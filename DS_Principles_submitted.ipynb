{
  "cells": [
    {
      "cell_type": "markdown",
      "metadata": {
        "id": "ElbuTHSbIL6K"
      },
      "source": [
        "# **preprocessing the data**"
      ]
    },
    {
      "cell_type": "code",
      "execution_count": 1,
      "metadata": {
        "id": "j89HTkVwIa-K"
      },
      "outputs": [],
      "source": [
        "import numpy as np\n",
        "import pandas as pd\n",
        "from math import sqrt \n",
        "from statistics import variance \n",
        "import matplotlib.pyplot as plt\n",
        "from sklearn.model_selection import train_test_split\n",
        "from sklearn import preprocessing\n"
      ]
    },
    {
      "cell_type": "markdown",
      "metadata": {
        "id": "-nNY-j7FI7Cg"
      },
      "source": [
        "### **load the data**"
      ]
    },
    {
      "cell_type": "code",
      "execution_count": 2,
      "metadata": {
        "id": "WI11AipjFj7d"
      },
      "outputs": [],
      "source": [
        "#load the dataset\n",
        "data = pd.read_csv('/content/drive/MyDrive/dataset.csv')"
      ]
    },
    {
      "cell_type": "code",
      "execution_count": 3,
      "metadata": {
        "colab": {
          "base_uri": "https://localhost:8080/"
        },
        "id": "3sforHaJIvLP",
        "outputId": "2cd99e54-5b1f-4efa-c303-a00e3b02aa93"
      },
      "outputs": [
        {
          "output_type": "stream",
          "name": "stdout",
          "text": [
            "<class 'pandas.core.frame.DataFrame'>\n",
            "RangeIndex: 8523 entries, 0 to 8522\n",
            "Data columns (total 14 columns):\n",
            " #   Column      Non-Null Count  Dtype  \n",
            "---  ------      --------------  -----  \n",
            " 0   I_Id        8523 non-null   object \n",
            " 1   I_W         7060 non-null   float64\n",
            " 2   I_Fat_C     8523 non-null   object \n",
            " 3   I_Vis       8523 non-null   float64\n",
            " 4   I_MRP_JD    8523 non-null   float64\n",
            " 5   I_category  8523 non-null   object \n",
            " 6   I_MRP_US    8523 non-null   float64\n",
            " 7   O_Id        8523 non-null   object \n",
            " 8   O_Establ_Y  8523 non-null   int64  \n",
            " 9   O_Size      6113 non-null   object \n",
            " 10  I_Recalled  8523 non-null   object \n",
            " 11  O_Loc_T     8523 non-null   object \n",
            " 12  O_T         8523 non-null   object \n",
            " 13  I_O_Sales   8523 non-null   float64\n",
            "dtypes: float64(5), int64(1), object(8)\n",
            "memory usage: 932.3+ KB\n"
          ]
        }
      ],
      "source": [
        "#examine the data\n",
        "data.head(10)\n",
        "\n",
        "#check number of rows, cols and dtypes\n",
        "data.info()"
      ]
    },
    {
      "cell_type": "markdown",
      "metadata": {
        "id": "Pcq2oqEZI-Im"
      },
      "source": [
        "### **check the values**"
      ]
    },
    {
      "cell_type": "code",
      "execution_count": 4,
      "metadata": {
        "colab": {
          "base_uri": "https://localhost:8080/"
        },
        "id": "qrZYYcoVI-t8",
        "outputId": "6651d79b-334c-4ddc-ef68-23a345107f1d"
      },
      "outputs": [
        {
          "output_type": "execute_result",
          "data": {
            "text/plain": [
              "I_Id             0\n",
              "I_W           1463\n",
              "I_Fat_C          0\n",
              "I_Vis            0\n",
              "I_MRP_JD         0\n",
              "I_category       0\n",
              "I_MRP_US         0\n",
              "O_Id             0\n",
              "O_Establ_Y       0\n",
              "O_Size        2410\n",
              "I_Recalled       0\n",
              "O_Loc_T          0\n",
              "O_T              0\n",
              "I_O_Sales        0\n",
              "dtype: int64"
            ]
          },
          "metadata": {},
          "execution_count": 4
        }
      ],
      "source": [
        "# only null values we have are I_W and O_Size\n",
        "data.isnull().sum()"
      ]
    },
    {
      "cell_type": "code",
      "execution_count": 5,
      "metadata": {
        "colab": {
          "base_uri": "https://localhost:8080/"
        },
        "id": "m7GFlTxUJ46a",
        "outputId": "411c931b-186c-415d-8984-5f41045ce0c7"
      },
      "outputs": [
        {
          "output_type": "execute_result",
          "data": {
            "text/plain": [
              "1138.7520    17\n",
              "1522.2528    16\n",
              "883.0848     15\n",
              "2025.5976    15\n",
              "1458.3360    14\n",
              "             ..\n",
              "4304.6310     1\n",
              "6802.7126     1\n",
              "1794.5650     1\n",
              "5782.7070     1\n",
              "2958.3834     1\n",
              "Name: I_O_Sales, Length: 3493, dtype: int64"
            ]
          },
          "metadata": {},
          "execution_count": 5
        }
      ],
      "source": [
        "#lets check the values for each columns\n",
        "data['I_Id'].value_counts(dropna = False)\n",
        "data['I_W'].value_counts(dropna = False)  \n",
        "data['I_Vis'].value_counts(dropna = False)   \n",
        "data['I_MRP_JD'].value_counts(dropna = False)    \n",
        "data['I_category'].value_counts(dropna = False)    \n",
        "data['I_MRP_US'].value_counts(dropna = False) \n",
        "data['I_Fat_C'].value_counts(dropna = False)\n",
        "data['O_Id'].value_counts(dropna = False)  \n",
        "data['O_Establ_Y'].value_counts(dropna = False) \n",
        "data['O_Size'].value_counts(dropna = False)   \n",
        "data['I_Recalled'].value_counts(dropna = False)  \n",
        "data['O_Loc_T'].value_counts(dropna = False)\n",
        "data['O_T'].value_counts(dropna = False) \n",
        "data['I_O_Sales'].value_counts(dropna = False)   "
      ]
    },
    {
      "cell_type": "markdown",
      "metadata": {
        "id": "Y7QtYdFWTpIA"
      },
      "source": [
        "### **removing the null values and fixing the values**"
      ]
    },
    {
      "cell_type": "code",
      "execution_count": 6,
      "metadata": {
        "id": "MCaz_s_hzxAV"
      },
      "outputs": [],
      "source": [
        "#make all the I_Fat_C values either Regular or Low Fat\n",
        "data['I_Fat_C'].replace({'LF':'Low Fat','low fat':'Low Fat','reg':'Regular'},inplace = True)"
      ]
    },
    {
      "cell_type": "code",
      "execution_count": 7,
      "metadata": {
        "id": "hZTVkdAlYK0Q"
      },
      "outputs": [],
      "source": [
        "# to put the missing values in I_W as the mean of the same product weights \n",
        "data['I_W'].fillna(data.groupby(['I_Id'])['I_W'].transform('mean'),inplace=True)"
      ]
    },
    {
      "cell_type": "code",
      "execution_count": 8,
      "metadata": {
        "colab": {
          "base_uri": "https://localhost:8080/"
        },
        "id": "6x1krVNa8b26",
        "outputId": "5b0d25f7-3526-4287-8ac1-b767beff70a0"
      },
      "outputs": [
        {
          "output_type": "execute_result",
          "data": {
            "text/plain": [
              "I_Id             0\n",
              "I_W              4\n",
              "I_Fat_C          0\n",
              "I_Vis            0\n",
              "I_MRP_JD         0\n",
              "I_category       0\n",
              "I_MRP_US         0\n",
              "O_Id             0\n",
              "O_Establ_Y       0\n",
              "O_Size        2410\n",
              "I_Recalled       0\n",
              "O_Loc_T          0\n",
              "O_T              0\n",
              "I_O_Sales        0\n",
              "dtype: int64"
            ]
          },
          "metadata": {},
          "execution_count": 8
        }
      ],
      "source": [
        "# check if all missing values have been gone from I_W\n",
        "data.isnull().sum()"
      ]
    },
    {
      "cell_type": "code",
      "execution_count": 9,
      "metadata": {
        "id": "j6fo_1dg7aMV"
      },
      "outputs": [],
      "source": [
        "# fill the rest of the 4 empty weight values as the mean of all the weight column\n",
        "data['I_W'].fillna(0, inplace=True)"
      ]
    },
    {
      "cell_type": "code",
      "execution_count": 10,
      "metadata": {
        "id": "7_zo8CyZvZZM"
      },
      "outputs": [],
      "source": [
        "# since all the null values exist with the store Ids size values all null we\n",
        "# will use the store name and take the mode sizes of each one to fill out the null values\n",
        "# This will fill the missing values with the first element of the mode of each group, even if the group is empty\n",
        "\n",
        "# i will create a dictionary of mode values for each store name\n",
        "mode_storeName_size = data.groupby('O_T')['O_Size'].apply(lambda x: x.mode()[0]).to_dict()\n",
        "# fill missing values using the dictionary\n",
        "data['O_Size'].fillna(data['O_T'].map(mode_storeName_size), inplace=True)"
      ]
    },
    {
      "cell_type": "code",
      "execution_count": 11,
      "metadata": {
        "colab": {
          "base_uri": "https://localhost:8080/"
        },
        "id": "iVbRS7tzu4ws",
        "outputId": "e602358e-de86-41bd-eeae-2b152a8921a6"
      },
      "outputs": [
        {
          "output_type": "execute_result",
          "data": {
            "text/plain": [
              "I_Id          0\n",
              "I_W           0\n",
              "I_Fat_C       0\n",
              "I_Vis         0\n",
              "I_MRP_JD      0\n",
              "I_category    0\n",
              "I_MRP_US      0\n",
              "O_Id          0\n",
              "O_Establ_Y    0\n",
              "O_Size        0\n",
              "I_Recalled    0\n",
              "O_Loc_T       0\n",
              "O_T           0\n",
              "I_O_Sales     0\n",
              "dtype: int64"
            ]
          },
          "metadata": {},
          "execution_count": 11
        }
      ],
      "source": [
        "# check if all missing values have been gone from O_Size\n",
        "data.isnull().sum()"
      ]
    },
    {
      "cell_type": "code",
      "source": [
        "data.describe()"
      ],
      "metadata": {
        "colab": {
          "base_uri": "https://localhost:8080/",
          "height": 300
        },
        "id": "PugvYYTQYLrC",
        "outputId": "da65153d-baaf-48bb-d57d-bf14ddfc241d"
      },
      "execution_count": 12,
      "outputs": [
        {
          "output_type": "execute_result",
          "data": {
            "text/plain": [
              "               I_W        I_Vis     I_MRP_JD     I_MRP_US   O_Establ_Y  \\\n",
              "count  8523.000000  8523.000000  8523.000000  8523.000000  8523.000000   \n",
              "mean     12.869378     0.066249   148.384875   208.992782  2007.831867   \n",
              "std       4.653372     0.051608    44.215297    62.275067     8.371760   \n",
              "min       0.000000     0.000000    70.495900    99.290000  1995.000000   \n",
              "25%       8.785000     0.027114   114.896815   161.826500  1997.000000   \n",
              "50%      12.600000     0.054056   149.819088   211.012800  2009.000000   \n",
              "75%      16.850000     0.094710   180.087027   253.643700  2014.000000   \n",
              "max      21.350000     0.328516   237.770764   334.888400  2019.000000   \n",
              "\n",
              "          I_O_Sales  \n",
              "count   8523.000000  \n",
              "mean    2361.288914  \n",
              "std     1706.499616  \n",
              "min      213.290000  \n",
              "25%     1014.247400  \n",
              "50%     1974.331000  \n",
              "75%     3281.296400  \n",
              "max    13266.964800  "
            ],
            "text/html": [
              "\n",
              "  <div id=\"df-9570815d-1a91-4cde-a273-b180f8a5582b\">\n",
              "    <div class=\"colab-df-container\">\n",
              "      <div>\n",
              "<style scoped>\n",
              "    .dataframe tbody tr th:only-of-type {\n",
              "        vertical-align: middle;\n",
              "    }\n",
              "\n",
              "    .dataframe tbody tr th {\n",
              "        vertical-align: top;\n",
              "    }\n",
              "\n",
              "    .dataframe thead th {\n",
              "        text-align: right;\n",
              "    }\n",
              "</style>\n",
              "<table border=\"1\" class=\"dataframe\">\n",
              "  <thead>\n",
              "    <tr style=\"text-align: right;\">\n",
              "      <th></th>\n",
              "      <th>I_W</th>\n",
              "      <th>I_Vis</th>\n",
              "      <th>I_MRP_JD</th>\n",
              "      <th>I_MRP_US</th>\n",
              "      <th>O_Establ_Y</th>\n",
              "      <th>I_O_Sales</th>\n",
              "    </tr>\n",
              "  </thead>\n",
              "  <tbody>\n",
              "    <tr>\n",
              "      <th>count</th>\n",
              "      <td>8523.000000</td>\n",
              "      <td>8523.000000</td>\n",
              "      <td>8523.000000</td>\n",
              "      <td>8523.000000</td>\n",
              "      <td>8523.000000</td>\n",
              "      <td>8523.000000</td>\n",
              "    </tr>\n",
              "    <tr>\n",
              "      <th>mean</th>\n",
              "      <td>12.869378</td>\n",
              "      <td>0.066249</td>\n",
              "      <td>148.384875</td>\n",
              "      <td>208.992782</td>\n",
              "      <td>2007.831867</td>\n",
              "      <td>2361.288914</td>\n",
              "    </tr>\n",
              "    <tr>\n",
              "      <th>std</th>\n",
              "      <td>4.653372</td>\n",
              "      <td>0.051608</td>\n",
              "      <td>44.215297</td>\n",
              "      <td>62.275067</td>\n",
              "      <td>8.371760</td>\n",
              "      <td>1706.499616</td>\n",
              "    </tr>\n",
              "    <tr>\n",
              "      <th>min</th>\n",
              "      <td>0.000000</td>\n",
              "      <td>0.000000</td>\n",
              "      <td>70.495900</td>\n",
              "      <td>99.290000</td>\n",
              "      <td>1995.000000</td>\n",
              "      <td>213.290000</td>\n",
              "    </tr>\n",
              "    <tr>\n",
              "      <th>25%</th>\n",
              "      <td>8.785000</td>\n",
              "      <td>0.027114</td>\n",
              "      <td>114.896815</td>\n",
              "      <td>161.826500</td>\n",
              "      <td>1997.000000</td>\n",
              "      <td>1014.247400</td>\n",
              "    </tr>\n",
              "    <tr>\n",
              "      <th>50%</th>\n",
              "      <td>12.600000</td>\n",
              "      <td>0.054056</td>\n",
              "      <td>149.819088</td>\n",
              "      <td>211.012800</td>\n",
              "      <td>2009.000000</td>\n",
              "      <td>1974.331000</td>\n",
              "    </tr>\n",
              "    <tr>\n",
              "      <th>75%</th>\n",
              "      <td>16.850000</td>\n",
              "      <td>0.094710</td>\n",
              "      <td>180.087027</td>\n",
              "      <td>253.643700</td>\n",
              "      <td>2014.000000</td>\n",
              "      <td>3281.296400</td>\n",
              "    </tr>\n",
              "    <tr>\n",
              "      <th>max</th>\n",
              "      <td>21.350000</td>\n",
              "      <td>0.328516</td>\n",
              "      <td>237.770764</td>\n",
              "      <td>334.888400</td>\n",
              "      <td>2019.000000</td>\n",
              "      <td>13266.964800</td>\n",
              "    </tr>\n",
              "  </tbody>\n",
              "</table>\n",
              "</div>\n",
              "      <button class=\"colab-df-convert\" onclick=\"convertToInteractive('df-9570815d-1a91-4cde-a273-b180f8a5582b')\"\n",
              "              title=\"Convert this dataframe to an interactive table.\"\n",
              "              style=\"display:none;\">\n",
              "        \n",
              "  <svg xmlns=\"http://www.w3.org/2000/svg\" height=\"24px\"viewBox=\"0 0 24 24\"\n",
              "       width=\"24px\">\n",
              "    <path d=\"M0 0h24v24H0V0z\" fill=\"none\"/>\n",
              "    <path d=\"M18.56 5.44l.94 2.06.94-2.06 2.06-.94-2.06-.94-.94-2.06-.94 2.06-2.06.94zm-11 1L8.5 8.5l.94-2.06 2.06-.94-2.06-.94L8.5 2.5l-.94 2.06-2.06.94zm10 10l.94 2.06.94-2.06 2.06-.94-2.06-.94-.94-2.06-.94 2.06-2.06.94z\"/><path d=\"M17.41 7.96l-1.37-1.37c-.4-.4-.92-.59-1.43-.59-.52 0-1.04.2-1.43.59L10.3 9.45l-7.72 7.72c-.78.78-.78 2.05 0 2.83L4 21.41c.39.39.9.59 1.41.59.51 0 1.02-.2 1.41-.59l7.78-7.78 2.81-2.81c.8-.78.8-2.07 0-2.86zM5.41 20L4 18.59l7.72-7.72 1.47 1.35L5.41 20z\"/>\n",
              "  </svg>\n",
              "      </button>\n",
              "      \n",
              "  <style>\n",
              "    .colab-df-container {\n",
              "      display:flex;\n",
              "      flex-wrap:wrap;\n",
              "      gap: 12px;\n",
              "    }\n",
              "\n",
              "    .colab-df-convert {\n",
              "      background-color: #E8F0FE;\n",
              "      border: none;\n",
              "      border-radius: 50%;\n",
              "      cursor: pointer;\n",
              "      display: none;\n",
              "      fill: #1967D2;\n",
              "      height: 32px;\n",
              "      padding: 0 0 0 0;\n",
              "      width: 32px;\n",
              "    }\n",
              "\n",
              "    .colab-df-convert:hover {\n",
              "      background-color: #E2EBFA;\n",
              "      box-shadow: 0px 1px 2px rgba(60, 64, 67, 0.3), 0px 1px 3px 1px rgba(60, 64, 67, 0.15);\n",
              "      fill: #174EA6;\n",
              "    }\n",
              "\n",
              "    [theme=dark] .colab-df-convert {\n",
              "      background-color: #3B4455;\n",
              "      fill: #D2E3FC;\n",
              "    }\n",
              "\n",
              "    [theme=dark] .colab-df-convert:hover {\n",
              "      background-color: #434B5C;\n",
              "      box-shadow: 0px 1px 3px 1px rgba(0, 0, 0, 0.15);\n",
              "      filter: drop-shadow(0px 1px 2px rgba(0, 0, 0, 0.3));\n",
              "      fill: #FFFFFF;\n",
              "    }\n",
              "  </style>\n",
              "\n",
              "      <script>\n",
              "        const buttonEl =\n",
              "          document.querySelector('#df-9570815d-1a91-4cde-a273-b180f8a5582b button.colab-df-convert');\n",
              "        buttonEl.style.display =\n",
              "          google.colab.kernel.accessAllowed ? 'block' : 'none';\n",
              "\n",
              "        async function convertToInteractive(key) {\n",
              "          const element = document.querySelector('#df-9570815d-1a91-4cde-a273-b180f8a5582b');\n",
              "          const dataTable =\n",
              "            await google.colab.kernel.invokeFunction('convertToInteractive',\n",
              "                                                     [key], {});\n",
              "          if (!dataTable) return;\n",
              "\n",
              "          const docLinkHtml = 'Like what you see? Visit the ' +\n",
              "            '<a target=\"_blank\" href=https://colab.research.google.com/notebooks/data_table.ipynb>data table notebook</a>'\n",
              "            + ' to learn more about interactive tables.';\n",
              "          element.innerHTML = '';\n",
              "          dataTable['output_type'] = 'display_data';\n",
              "          await google.colab.output.renderOutput(dataTable, element);\n",
              "          const docLink = document.createElement('div');\n",
              "          docLink.innerHTML = docLinkHtml;\n",
              "          element.appendChild(docLink);\n",
              "        }\n",
              "      </script>\n",
              "    </div>\n",
              "  </div>\n",
              "  "
            ]
          },
          "metadata": {},
          "execution_count": 12
        }
      ]
    },
    {
      "cell_type": "code",
      "source": [
        "# visibility cant be 0 so ill replace the seros with null then fill them with the mean of I_Vis\n",
        "data['I_Vis'] = data['I_Vis'].replace(0, np.nan)\n",
        "data['I_Vis'].fillna(data['I_Vis'].mean(), inplace=True)"
      ],
      "metadata": {
        "id": "7FFhhE44YR3x"
      },
      "execution_count": 13,
      "outputs": []
    },
    {
      "cell_type": "markdown",
      "metadata": {
        "id": "tE1GE0OUd_TB"
      },
      "source": [
        "# feature engineering"
      ]
    },
    {
      "cell_type": "code",
      "execution_count": 14,
      "metadata": {
        "colab": {
          "base_uri": "https://localhost:8080/",
          "height": 237
        },
        "id": "aBTOLo4m8wwE",
        "outputId": "e150197f-a20d-49fe-e405-3242ae4948f1"
      },
      "outputs": [
        {
          "output_type": "execute_result",
          "data": {
            "text/plain": [
              "                 I_W     I_Vis  I_MRP_JD  I_MRP_US  O_Establ_Y  I_O_Sales\n",
              "I_W         1.000000 -0.018960  0.026691  0.026691   -0.011404   0.012979\n",
              "I_Vis      -0.018960  1.000000 -0.005515 -0.005515   -0.078316  -0.134035\n",
              "I_MRP_JD    0.026691 -0.005515  1.000000  1.000000    0.005020   0.567574\n",
              "I_MRP_US    0.026691 -0.005515  1.000000  1.000000    0.005020   0.567574\n",
              "O_Establ_Y -0.011404 -0.078316  0.005020  0.005020    1.000000  -0.049135\n",
              "I_O_Sales   0.012979 -0.134035  0.567574  0.567574   -0.049135   1.000000"
            ],
            "text/html": [
              "\n",
              "  <div id=\"df-01001b85-c351-4574-8e39-1ccbb653e794\">\n",
              "    <div class=\"colab-df-container\">\n",
              "      <div>\n",
              "<style scoped>\n",
              "    .dataframe tbody tr th:only-of-type {\n",
              "        vertical-align: middle;\n",
              "    }\n",
              "\n",
              "    .dataframe tbody tr th {\n",
              "        vertical-align: top;\n",
              "    }\n",
              "\n",
              "    .dataframe thead th {\n",
              "        text-align: right;\n",
              "    }\n",
              "</style>\n",
              "<table border=\"1\" class=\"dataframe\">\n",
              "  <thead>\n",
              "    <tr style=\"text-align: right;\">\n",
              "      <th></th>\n",
              "      <th>I_W</th>\n",
              "      <th>I_Vis</th>\n",
              "      <th>I_MRP_JD</th>\n",
              "      <th>I_MRP_US</th>\n",
              "      <th>O_Establ_Y</th>\n",
              "      <th>I_O_Sales</th>\n",
              "    </tr>\n",
              "  </thead>\n",
              "  <tbody>\n",
              "    <tr>\n",
              "      <th>I_W</th>\n",
              "      <td>1.000000</td>\n",
              "      <td>-0.018960</td>\n",
              "      <td>0.026691</td>\n",
              "      <td>0.026691</td>\n",
              "      <td>-0.011404</td>\n",
              "      <td>0.012979</td>\n",
              "    </tr>\n",
              "    <tr>\n",
              "      <th>I_Vis</th>\n",
              "      <td>-0.018960</td>\n",
              "      <td>1.000000</td>\n",
              "      <td>-0.005515</td>\n",
              "      <td>-0.005515</td>\n",
              "      <td>-0.078316</td>\n",
              "      <td>-0.134035</td>\n",
              "    </tr>\n",
              "    <tr>\n",
              "      <th>I_MRP_JD</th>\n",
              "      <td>0.026691</td>\n",
              "      <td>-0.005515</td>\n",
              "      <td>1.000000</td>\n",
              "      <td>1.000000</td>\n",
              "      <td>0.005020</td>\n",
              "      <td>0.567574</td>\n",
              "    </tr>\n",
              "    <tr>\n",
              "      <th>I_MRP_US</th>\n",
              "      <td>0.026691</td>\n",
              "      <td>-0.005515</td>\n",
              "      <td>1.000000</td>\n",
              "      <td>1.000000</td>\n",
              "      <td>0.005020</td>\n",
              "      <td>0.567574</td>\n",
              "    </tr>\n",
              "    <tr>\n",
              "      <th>O_Establ_Y</th>\n",
              "      <td>-0.011404</td>\n",
              "      <td>-0.078316</td>\n",
              "      <td>0.005020</td>\n",
              "      <td>0.005020</td>\n",
              "      <td>1.000000</td>\n",
              "      <td>-0.049135</td>\n",
              "    </tr>\n",
              "    <tr>\n",
              "      <th>I_O_Sales</th>\n",
              "      <td>0.012979</td>\n",
              "      <td>-0.134035</td>\n",
              "      <td>0.567574</td>\n",
              "      <td>0.567574</td>\n",
              "      <td>-0.049135</td>\n",
              "      <td>1.000000</td>\n",
              "    </tr>\n",
              "  </tbody>\n",
              "</table>\n",
              "</div>\n",
              "      <button class=\"colab-df-convert\" onclick=\"convertToInteractive('df-01001b85-c351-4574-8e39-1ccbb653e794')\"\n",
              "              title=\"Convert this dataframe to an interactive table.\"\n",
              "              style=\"display:none;\">\n",
              "        \n",
              "  <svg xmlns=\"http://www.w3.org/2000/svg\" height=\"24px\"viewBox=\"0 0 24 24\"\n",
              "       width=\"24px\">\n",
              "    <path d=\"M0 0h24v24H0V0z\" fill=\"none\"/>\n",
              "    <path d=\"M18.56 5.44l.94 2.06.94-2.06 2.06-.94-2.06-.94-.94-2.06-.94 2.06-2.06.94zm-11 1L8.5 8.5l.94-2.06 2.06-.94-2.06-.94L8.5 2.5l-.94 2.06-2.06.94zm10 10l.94 2.06.94-2.06 2.06-.94-2.06-.94-.94-2.06-.94 2.06-2.06.94z\"/><path d=\"M17.41 7.96l-1.37-1.37c-.4-.4-.92-.59-1.43-.59-.52 0-1.04.2-1.43.59L10.3 9.45l-7.72 7.72c-.78.78-.78 2.05 0 2.83L4 21.41c.39.39.9.59 1.41.59.51 0 1.02-.2 1.41-.59l7.78-7.78 2.81-2.81c.8-.78.8-2.07 0-2.86zM5.41 20L4 18.59l7.72-7.72 1.47 1.35L5.41 20z\"/>\n",
              "  </svg>\n",
              "      </button>\n",
              "      \n",
              "  <style>\n",
              "    .colab-df-container {\n",
              "      display:flex;\n",
              "      flex-wrap:wrap;\n",
              "      gap: 12px;\n",
              "    }\n",
              "\n",
              "    .colab-df-convert {\n",
              "      background-color: #E8F0FE;\n",
              "      border: none;\n",
              "      border-radius: 50%;\n",
              "      cursor: pointer;\n",
              "      display: none;\n",
              "      fill: #1967D2;\n",
              "      height: 32px;\n",
              "      padding: 0 0 0 0;\n",
              "      width: 32px;\n",
              "    }\n",
              "\n",
              "    .colab-df-convert:hover {\n",
              "      background-color: #E2EBFA;\n",
              "      box-shadow: 0px 1px 2px rgba(60, 64, 67, 0.3), 0px 1px 3px 1px rgba(60, 64, 67, 0.15);\n",
              "      fill: #174EA6;\n",
              "    }\n",
              "\n",
              "    [theme=dark] .colab-df-convert {\n",
              "      background-color: #3B4455;\n",
              "      fill: #D2E3FC;\n",
              "    }\n",
              "\n",
              "    [theme=dark] .colab-df-convert:hover {\n",
              "      background-color: #434B5C;\n",
              "      box-shadow: 0px 1px 3px 1px rgba(0, 0, 0, 0.15);\n",
              "      filter: drop-shadow(0px 1px 2px rgba(0, 0, 0, 0.3));\n",
              "      fill: #FFFFFF;\n",
              "    }\n",
              "  </style>\n",
              "\n",
              "      <script>\n",
              "        const buttonEl =\n",
              "          document.querySelector('#df-01001b85-c351-4574-8e39-1ccbb653e794 button.colab-df-convert');\n",
              "        buttonEl.style.display =\n",
              "          google.colab.kernel.accessAllowed ? 'block' : 'none';\n",
              "\n",
              "        async function convertToInteractive(key) {\n",
              "          const element = document.querySelector('#df-01001b85-c351-4574-8e39-1ccbb653e794');\n",
              "          const dataTable =\n",
              "            await google.colab.kernel.invokeFunction('convertToInteractive',\n",
              "                                                     [key], {});\n",
              "          if (!dataTable) return;\n",
              "\n",
              "          const docLinkHtml = 'Like what you see? Visit the ' +\n",
              "            '<a target=\"_blank\" href=https://colab.research.google.com/notebooks/data_table.ipynb>data table notebook</a>'\n",
              "            + ' to learn more about interactive tables.';\n",
              "          element.innerHTML = '';\n",
              "          dataTable['output_type'] = 'display_data';\n",
              "          await google.colab.output.renderOutput(dataTable, element);\n",
              "          const docLink = document.createElement('div');\n",
              "          docLink.innerHTML = docLinkHtml;\n",
              "          element.appendChild(docLink);\n",
              "        }\n",
              "      </script>\n",
              "    </div>\n",
              "  </div>\n",
              "  "
            ]
          },
          "metadata": {},
          "execution_count": 14
        }
      ],
      "source": [
        "# create a correlation matrix to find out which columns to drop\n",
        "corr_matrix = data.corr()\n",
        "corr_matrix"
      ]
    },
    {
      "cell_type": "code",
      "execution_count": 15,
      "metadata": {
        "colab": {
          "base_uri": "https://localhost:8080/"
        },
        "id": "02kT5EqZ9-Ox",
        "outputId": "b1737dd8-c2a9-4198-97e0-1be56b8bcae7"
      },
      "outputs": [
        {
          "output_type": "stream",
          "name": "stderr",
          "text": [
            "<ipython-input-15-8d7d4e9984ff>:2: FutureWarning: Dropping of nuisance columns in DataFrame reductions (with 'numeric_only=None') is deprecated; in a future version this will raise TypeError.  Select only valid columns before calling the reduction.\n",
            "  data_varience = data.var()\n"
          ]
        },
        {
          "output_type": "execute_result",
          "data": {
            "text/plain": [
              "I_W           2.165387e+01\n",
              "I_Vis         2.374640e-03\n",
              "I_MRP_JD      1.954993e+03\n",
              "I_MRP_US      3.878184e+03\n",
              "O_Establ_Y    7.008637e+01\n",
              "I_O_Sales     2.912141e+06\n",
              "dtype: float64"
            ]
          },
          "metadata": {},
          "execution_count": 15
        }
      ],
      "source": [
        "# create a variance calculation to find out if there are any columns with low varience \n",
        "data_varience = data.var()\n",
        "data_varience"
      ]
    },
    {
      "cell_type": "code",
      "execution_count": 16,
      "metadata": {
        "id": "R1znga_P-Uu0"
      },
      "outputs": [],
      "source": [
        "# based on the corolation matrix and varience calculation i will drop I_MRP_JD\n",
        "# moreoever logically we have its equivalant in US currency which is\n",
        "# the same currency as the label\n",
        "data.drop(\"I_MRP_JD\", axis=1, inplace = True)"
      ]
    },
    {
      "cell_type": "code",
      "source": [
        "#data.to_csv('data.CSV',index=False)"
      ],
      "metadata": {
        "id": "GrlNm_9XEJ2C"
      },
      "execution_count": 17,
      "outputs": []
    },
    {
      "cell_type": "markdown",
      "metadata": {
        "id": "fD-HCqScdfJv"
      },
      "source": [
        "# model"
      ]
    },
    {
      "cell_type": "markdown",
      "metadata": {
        "id": "6ZYhdWJaY268"
      },
      "source": [
        "### **linear regression**"
      ]
    },
    {
      "cell_type": "code",
      "execution_count": 18,
      "metadata": {
        "id": "ZzT9OZU__AJc"
      },
      "outputs": [],
      "source": [
        "# hot encode the features/columns: I_Id (1559), I_category (16), O_Id (10) , O_T (4) plus the 9 normal columns\n",
        "hot_encoded_data = pd.get_dummies(data, columns=['I_Id','I_category','O_Id','O_T'])"
      ]
    },
    {
      "cell_type": "code",
      "execution_count": 19,
      "metadata": {
        "id": "uVgdpt0N0Nkm"
      },
      "outputs": [],
      "source": [
        "# # max-min normalize values\n",
        "\n",
        "# #create a for loop for each column \n",
        "\n",
        "# min_value_I_Vis = min(hot_encoded_data['I_Vis'])\n",
        "# max_value_I_Vis = max(hot_encoded_data['I_Vis'])\n",
        "\n",
        "# min_value_I_MRP_US = min(hot_encoded_data['I_MRP_US'])\n",
        "# max_value_I_MRP_US = max(hot_encoded_data['I_MRP_US']) \n",
        "\n",
        "# min_value_O_Establ_Y = min(hot_encoded_data['O_Establ_Y']) \n",
        "# max_value_O_Establ_Y = max(hot_encoded_data['O_Establ_Y']) \n",
        "\n",
        "# min_value_I_W = min(hot_encoded_data['I_W']) \n",
        "# max_value_I_W = max(hot_encoded_data['I_W']) \n",
        "\n",
        "# for x in range(len(data)):\n",
        "  \n",
        "#   scaled_x_I_Vis = (hot_encoded_data['I_Vis'][x] - min_value_I_Vis) / (max_value_I_Vis - min_value_I_Vis)\n",
        "#   hot_encoded_data['I_Vis'][x] = scaled_x_I_Vis\n",
        "\n",
        "#   scaled_x_I_MRP_US = (hot_encoded_data['I_MRP_US'][x] - min_value_I_MRP_US) / (max_value_I_MRP_US - min_value_I_MRP_US)\n",
        "#   hot_encoded_data['I_MRP_US'][x] = scaled_x_I_MRP_US\n",
        "  \n",
        "#   scaled_x_O_Establ_Y = (hot_encoded_data['O_Establ_Y'][x] - min_value_O_Establ_Y) / (max_value_O_Establ_Y - min_value_O_Establ_Y)\n",
        "#   hot_encoded_data['O_Establ_Y'][x] = scaled_x_O_Establ_Y\n",
        "\n",
        "#   scaled_x_I_W = (hot_encoded_data['I_W'][x] - min_value_I_W) / (max_value_I_W - min_value_I_W)\n",
        "#   hot_encoded_data['I_W'][x] = scaled_x_I_W\n"
      ]
    },
    {
      "cell_type": "code",
      "source": [
        "# z score normalized values\n",
        "\n",
        "mean_value_I_Vis = np.mean(hot_encoded_data['I_Vis'])\n",
        "std_dev_value_I_Vis = np.std(hot_encoded_data['I_Vis'])\n",
        "\n",
        "mean_value_I_MRP_US = np.mean(hot_encoded_data['I_MRP_US'])\n",
        "std_dev_value_I_MRP_US = np.std(hot_encoded_data['I_MRP_US'])\n",
        "\n",
        "mean_value_O_Establ_Y = np.mean(hot_encoded_data['O_Establ_Y'])\n",
        "std_dev_value_O_Establ_Y = np.std(hot_encoded_data['O_Establ_Y'])\n",
        "\n",
        "mean_value_I_W = np.mean(hot_encoded_data['I_W'])\n",
        "std_dev_value_I_W = np.std(hot_encoded_data['I_W'])\n",
        "\n",
        "# normalize data\n",
        "\n",
        "\n",
        "for x in range(len(data)):\n",
        "  \n",
        "  scaled_x_I_Vis = (hot_encoded_data['I_Vis'][x] - mean_value_I_Vis) / std_dev_value_I_Vis \n",
        "  hot_encoded_data['I_Vis'][x] = scaled_x_I_Vis\n",
        "\n",
        "  scaled_x_I_MRP_US = (hot_encoded_data['I_MRP_US'][x] - mean_value_I_MRP_US) / std_dev_value_I_MRP_US \n",
        "  hot_encoded_data['I_MRP_US'][x] = scaled_x_I_MRP_US\n",
        "  \n",
        "  scaled_x_O_Establ_Y = (hot_encoded_data['O_Establ_Y'][x] - mean_value_O_Establ_Y) / std_dev_value_O_Establ_Y \n",
        "  hot_encoded_data['O_Establ_Y'][x] = scaled_x_O_Establ_Y\n",
        "\n",
        "  scaled_x_I_W = (hot_encoded_data['I_Vis'][x] - mean_value_I_W) / std_dev_value_I_W \n",
        "  hot_encoded_data['I_W'][x] = scaled_x_I_W"
      ],
      "metadata": {
        "id": "JHzmzfBzwsQl",
        "colab": {
          "base_uri": "https://localhost:8080/"
        },
        "outputId": "f13f415a-054c-470c-e0e9-777180a5f7bf"
      },
      "execution_count": 20,
      "outputs": [
        {
          "output_type": "stream",
          "name": "stderr",
          "text": [
            "<ipython-input-20-3175e4265f00>:21: SettingWithCopyWarning: \n",
            "A value is trying to be set on a copy of a slice from a DataFrame\n",
            "\n",
            "See the caveats in the documentation: https://pandas.pydata.org/pandas-docs/stable/user_guide/indexing.html#returning-a-view-versus-a-copy\n",
            "  hot_encoded_data['I_Vis'][x] = scaled_x_I_Vis\n",
            "<ipython-input-20-3175e4265f00>:24: SettingWithCopyWarning: \n",
            "A value is trying to be set on a copy of a slice from a DataFrame\n",
            "\n",
            "See the caveats in the documentation: https://pandas.pydata.org/pandas-docs/stable/user_guide/indexing.html#returning-a-view-versus-a-copy\n",
            "  hot_encoded_data['I_MRP_US'][x] = scaled_x_I_MRP_US\n",
            "<ipython-input-20-3175e4265f00>:27: SettingWithCopyWarning: \n",
            "A value is trying to be set on a copy of a slice from a DataFrame\n",
            "\n",
            "See the caveats in the documentation: https://pandas.pydata.org/pandas-docs/stable/user_guide/indexing.html#returning-a-view-versus-a-copy\n",
            "  hot_encoded_data['O_Establ_Y'][x] = scaled_x_O_Establ_Y\n",
            "<ipython-input-20-3175e4265f00>:30: SettingWithCopyWarning: \n",
            "A value is trying to be set on a copy of a slice from a DataFrame\n",
            "\n",
            "See the caveats in the documentation: https://pandas.pydata.org/pandas-docs/stable/user_guide/indexing.html#returning-a-view-versus-a-copy\n",
            "  hot_encoded_data['I_W'][x] = scaled_x_I_W\n"
          ]
        }
      ]
    },
    {
      "cell_type": "code",
      "execution_count": 21,
      "metadata": {
        "id": "2qvNzp_Vdkr8"
      },
      "outputs": [],
      "source": [
        "le = preprocessing.LabelEncoder()\n",
        "# to turn all these values into integers hot_encoded_data\n",
        "\n",
        "hot_encoded_data['O_Loc_T'] = le.fit_transform(hot_encoded_data['O_Loc_T'])\n",
        "hot_encoded_data['I_Fat_C'] = le.fit_transform(hot_encoded_data['I_Fat_C'])\n",
        "hot_encoded_data['O_Size'] = le.fit_transform(hot_encoded_data['O_Size'])\n",
        "hot_encoded_data['I_Recalled'] = le.fit_transform(hot_encoded_data['I_Recalled'])\n"
      ]
    },
    {
      "cell_type": "code",
      "execution_count": 22,
      "metadata": {
        "id": "q4kn6bgbdqOg"
      },
      "outputs": [],
      "source": [
        "x = hot_encoded_data.drop(['I_O_Sales'],axis=1)\n",
        "\n",
        "y=hot_encoded_data['I_O_Sales']"
      ]
    },
    {
      "cell_type": "code",
      "execution_count": 23,
      "metadata": {
        "id": "BFIarilhfKwQ"
      },
      "outputs": [],
      "source": [
        "x_train , x_test, y_train, y_test =train_test_split(x,y,test_size=0.33,random_state=0)"
      ]
    },
    {
      "cell_type": "code",
      "execution_count": 24,
      "metadata": {
        "id": "zxeb9oDTY7ju"
      },
      "outputs": [],
      "source": [
        "# to add a column of ones for the beta \n",
        "x_b = np.c_[np.ones((x_train.shape[0], 1)), x_train]  \n",
        "x_test = np.c_[np.ones((x_test.shape[0], 1)), x_test] "
      ]
    },
    {
      "cell_type": "code",
      "execution_count": 25,
      "metadata": {
        "id": "5Q30dr4ri7uG"
      },
      "outputs": [],
      "source": [
        "# turn the y_train into an array so that it can be used for the gradient\n",
        "y_train = np.array(y_train)\n",
        "x=y_train.shape[0]\n",
        "y_train = y_train.reshape(x,1)"
      ]
    },
    {
      "cell_type": "code",
      "execution_count": 26,
      "metadata": {
        "colab": {
          "base_uri": "https://localhost:8080/"
        },
        "id": "ZUUkJpTzZdL_",
        "outputId": "3183be9f-ed3c-45f3-ac35-a6cad3b73a38"
      },
      "outputs": [
        {
          "output_type": "stream",
          "name": "stdout",
          "text": [
            "inital beta [[1]\n",
            " [1]\n",
            " [1]\n",
            " ...\n",
            " [1]\n",
            " [1]\n",
            " [1]]\n",
            "beta in iteration 2000 is [[ 231.90775689]\n",
            " [-610.6993845 ]\n",
            " [  34.09864907]\n",
            " ...\n",
            " [ 415.38827029]\n",
            " [ 803.63876992]\n",
            " [-973.45264833]]\n"
          ]
        }
      ],
      "source": [
        "learning_rate = 0.015  # learning rate\n",
        "n_iterations = 2000  #number of iteration\n",
        "m = x_train.shape[0]              #number of rows in the dataset\n",
        "\n",
        "beta = np.full((x_train.shape[1]+1,1),1)  # random initialization for beta\n",
        "\n",
        "print(f'inital beta {beta}')\n",
        "for iteration in range(n_iterations):\n",
        "  #Here we have to compute the gradient \n",
        "  gradients = 2/m * x_b.T.dot(x_b.dot(beta) - y_train)\n",
        "\n",
        "  #Here we have to update the values of beta \n",
        "  beta = beta - (learning_rate * gradients)\n",
        "\n",
        "print(f'beta in iteration {iteration+1} is {beta}')"
      ]
    },
    {
      "cell_type": "code",
      "execution_count": 27,
      "metadata": {
        "id": "dKXJ8ugkZvOe"
      },
      "outputs": [],
      "source": [
        "# for predicted y\n",
        "y_pred=np.dot(x_test,beta) \n",
        "\n",
        "# to create an appropriate shaped y_test\n",
        "y_test = np.array(y_test)\n",
        "a = y_test.shape[0]\n",
        "y_test=y_test.reshape(a,1)"
      ]
    },
    {
      "cell_type": "code",
      "execution_count": 28,
      "metadata": {
        "colab": {
          "base_uri": "https://localhost:8080/"
        },
        "id": "6EknuSkwWhVx",
        "outputId": "350dfed2-f61f-4d31-c9e2-e1c74a35157c"
      },
      "outputs": [
        {
          "output_type": "stream",
          "name": "stdout",
          "text": [
            "R squared =  0.565978995422862\n",
            "MSE= 1298894.1663203791\n",
            "RSME= 1139.6903817793582\n",
            "MAE= 849.6175956858469\n"
          ]
        }
      ],
      "source": [
        "#evaluate using r squared\n",
        "\n",
        "x1 = (y_test - y_pred)\n",
        "x2 = x1**2\n",
        "rss = x2.sum()\n",
        "\n",
        "xx1 = (y_test - y_test.mean())\n",
        "xx2 = xx1**2\n",
        "tss = xx2.sum()\n",
        "\n",
        "r2 = 1 - (rss / tss)\n",
        "print('R squared = ',r2)\n",
        "MSE = np.square(np.subtract(y_test,y_pred)).mean()   \n",
        "rsme = sqrt(MSE)\n",
        "MAE=np.mean(np.abs(y_test - y_pred))\n",
        "\n",
        "print(\"MSE=\",MSE)  \n",
        "print(\"RSME=\",rsme)\n",
        "print(\"MAE=\",MAE)"
      ]
    },
    {
      "cell_type": "markdown",
      "metadata": {
        "id": "LQ0DWKWBSw8F"
      },
      "source": [
        "### **KNN**"
      ]
    },
    {
      "cell_type": "code",
      "execution_count": 29,
      "metadata": {
        "id": "YsmvQmUJjMmu"
      },
      "outputs": [],
      "source": [
        "# hot encode the features/columns: I_Id (1559), I_category (16), O_Id (10) , plus the 10 normal columns\n",
        "hot_encoded_KNNdata = pd.get_dummies(data, columns=['I_Id','I_category','O_Id'])"
      ]
    },
    {
      "cell_type": "code",
      "execution_count": 30,
      "metadata": {
        "colab": {
          "base_uri": "https://localhost:8080/"
        },
        "id": "iGJfX-fLjoYb",
        "outputId": "3c716c9e-b78a-4c2e-949d-99d02c722926"
      },
      "outputs": [
        {
          "output_type": "stream",
          "name": "stderr",
          "text": [
            "<ipython-input-30-eeb6b14162bd>:23: SettingWithCopyWarning: \n",
            "A value is trying to be set on a copy of a slice from a DataFrame\n",
            "\n",
            "See the caveats in the documentation: https://pandas.pydata.org/pandas-docs/stable/user_guide/indexing.html#returning-a-view-versus-a-copy\n",
            "  hot_encoded_KNNdata['I_Vis'][x] = scaled_x_I_Vis\n",
            "<ipython-input-30-eeb6b14162bd>:26: SettingWithCopyWarning: \n",
            "A value is trying to be set on a copy of a slice from a DataFrame\n",
            "\n",
            "See the caveats in the documentation: https://pandas.pydata.org/pandas-docs/stable/user_guide/indexing.html#returning-a-view-versus-a-copy\n",
            "  hot_encoded_KNNdata['I_MRP_US'][x] = scaled_x_I_MRP_US\n",
            "<ipython-input-30-eeb6b14162bd>:29: SettingWithCopyWarning: \n",
            "A value is trying to be set on a copy of a slice from a DataFrame\n",
            "\n",
            "See the caveats in the documentation: https://pandas.pydata.org/pandas-docs/stable/user_guide/indexing.html#returning-a-view-versus-a-copy\n",
            "  hot_encoded_KNNdata['O_Establ_Y'][x] = scaled_x_O_Establ_Y\n",
            "<ipython-input-30-eeb6b14162bd>:32: SettingWithCopyWarning: \n",
            "A value is trying to be set on a copy of a slice from a DataFrame\n",
            "\n",
            "See the caveats in the documentation: https://pandas.pydata.org/pandas-docs/stable/user_guide/indexing.html#returning-a-view-versus-a-copy\n",
            "  hot_encoded_KNNdata['I_W'][x] = scaled_x_I_W\n",
            "<ipython-input-30-eeb6b14162bd>:35: SettingWithCopyWarning: \n",
            "A value is trying to be set on a copy of a slice from a DataFrame\n",
            "\n",
            "See the caveats in the documentation: https://pandas.pydata.org/pandas-docs/stable/user_guide/indexing.html#returning-a-view-versus-a-copy\n",
            "  hot_encoded_KNNdata['I_O_Sales'][x] = scaled_x_I_O_Sales\n"
          ]
        }
      ],
      "source": [
        "# normalize values\n",
        "\n",
        "# create a for loop for each column \n",
        "\n",
        "min_value_I_Vis = min(hot_encoded_KNNdata['I_Vis'])\n",
        "max_value_I_Vis = max(hot_encoded_KNNdata['I_Vis'])\n",
        "\n",
        "min_value_I_MRP_US = min(hot_encoded_KNNdata['I_MRP_US'])\n",
        "max_value_I_MRP_US = max(hot_encoded_KNNdata['I_MRP_US']) \n",
        "\n",
        "min_value_O_Establ_Y = min(hot_encoded_KNNdata['O_Establ_Y']) \n",
        "max_value_O_Establ_Y = max(hot_encoded_KNNdata['O_Establ_Y']) \n",
        "\n",
        "min_value_I_W = min(hot_encoded_KNNdata['I_W']) \n",
        "max_value_I_W = max(hot_encoded_KNNdata['I_W']) \n",
        "\n",
        "min_value_I_O_Sales = min(hot_encoded_KNNdata['I_O_Sales']) \n",
        "max_value_I_O_Sales = max(hot_encoded_KNNdata['I_O_Sales'])\n",
        "\n",
        "for x in range(len(data)):\n",
        "  \n",
        "  scaled_x_I_Vis = (hot_encoded_KNNdata['I_Vis'][x] - min_value_I_Vis) / (max_value_I_Vis - min_value_I_Vis)\n",
        "  hot_encoded_KNNdata['I_Vis'][x] = scaled_x_I_Vis\n",
        "\n",
        "  scaled_x_I_MRP_US = (hot_encoded_KNNdata['I_MRP_US'][x] - min_value_I_MRP_US) / (max_value_I_MRP_US - min_value_I_MRP_US)\n",
        "  hot_encoded_KNNdata['I_MRP_US'][x] = scaled_x_I_MRP_US\n",
        "  \n",
        "  scaled_x_O_Establ_Y = (hot_encoded_KNNdata['O_Establ_Y'][x] - min_value_O_Establ_Y) / (max_value_O_Establ_Y - min_value_O_Establ_Y)\n",
        "  hot_encoded_KNNdata['O_Establ_Y'][x] = scaled_x_O_Establ_Y\n",
        "\n",
        "  scaled_x_I_W = (hot_encoded_KNNdata['I_W'][x] - min_value_I_W) / (max_value_I_W - min_value_I_W)\n",
        "  hot_encoded_KNNdata['I_W'][x] = scaled_x_I_W\n",
        "\n",
        "  scaled_x_I_O_Sales = (hot_encoded_KNNdata['I_O_Sales'][x] - min_value_I_O_Sales) / (max_value_I_O_Sales - min_value_I_O_Sales)\n",
        "  hot_encoded_KNNdata['I_O_Sales'][x] = scaled_x_I_O_Sales"
      ]
    },
    {
      "cell_type": "code",
      "source": [
        "# z score normalized values\n",
        "\n",
        "# mean_value_I_Vis = np.mean(hot_encoded_KNNdata['I_Vis'])\n",
        "# std_dev_value_I_Vis = np.std(hot_encoded_KNNdata['I_Vis'])\n",
        "\n",
        "# mean_value_I_MRP_US = np.mean(hot_encoded_KNNdata['I_MRP_US'])\n",
        "# std_dev_value_I_MRP_US = np.std(hot_encoded_KNNdata['I_MRP_US'])\n",
        "\n",
        "# mean_value_O_Establ_Y = np.mean(hot_encoded_KNNdata['O_Establ_Y'])\n",
        "# std_dev_value_O_Establ_Y = np.std(hot_encoded_KNNdata['O_Establ_Y'])\n",
        "\n",
        "# mean_value_I_W = np.mean(hot_encoded_KNNdata['I_W'])\n",
        "# std_dev_value_I_W = np.std(hot_encoded_KNNdata['I_W'])\n",
        "\n",
        "# mean_value_I_O_Sales = np.mean(hot_encoded_KNNdata['I_O_Sales'])\n",
        "# std_dev_value_I_O_Sales = np.std(hot_encoded_KNNdata['I_O_Sales'])\n",
        "\n",
        "# # normalize data\n",
        "\n",
        "\n",
        "# for x in range(len(data)):\n",
        "  \n",
        "#   scaled_x_I_Vis = (hot_encoded_KNNdata['I_Vis'][x] - mean_value_I_Vis) / std_dev_value_I_Vis \n",
        "#   hot_encoded_KNNdata['I_Vis'][x] = scaled_x_I_Vis\n",
        "\n",
        "#   scaled_x_I_MRP_US = (hot_encoded_KNNdata['I_MRP_US'][x] - mean_value_I_MRP_US) / std_dev_value_I_MRP_US \n",
        "#   hot_encoded_KNNdata['I_MRP_US'][x] = scaled_x_I_MRP_US\n",
        "  \n",
        "#   scaled_x_O_Establ_Y = (hot_encoded_KNNdata['O_Establ_Y'][x] - mean_value_O_Establ_Y) / std_dev_value_O_Establ_Y \n",
        "#   hot_encoded_KNNdata['O_Establ_Y'][x] = scaled_x_O_Establ_Y\n",
        "\n",
        "#   scaled_x_I_W = (hot_encoded_KNNdata['I_Vis'][x] - mean_value_I_W) / std_dev_value_I_W \n",
        "#   hot_encoded_KNNdata['I_W'][x] = scaled_x_I_W\n",
        "\n",
        "#   scaled_x_I_O_Sales = (hot_encoded_KNNdata['I_O_Sales'][x] -  mean_value_I_O_Sales) / std_dev_value_I_O_Sales \n",
        "#   hot_encoded_KNNdata['I_O_Sales'][x] = scaled_x_I_O_Sales\n"
      ],
      "metadata": {
        "id": "geFr5d1X0ke1"
      },
      "execution_count": 31,
      "outputs": []
    },
    {
      "cell_type": "code",
      "execution_count": 32,
      "metadata": {
        "id": "-fO1weBx8Wyn"
      },
      "outputs": [],
      "source": [
        "# to turn all these values into integers hot_encoded_data\n",
        "\n",
        "hot_encoded_KNNdata['O_Loc_T'] = le.fit_transform(hot_encoded_KNNdata['O_Loc_T'])\n",
        "hot_encoded_KNNdata['I_Fat_C'] = le.fit_transform(hot_encoded_KNNdata['I_Fat_C'])\n",
        "hot_encoded_KNNdata['O_Size'] = le.fit_transform(hot_encoded_KNNdata['O_Size'])\n",
        "hot_encoded_KNNdata['I_Recalled'] = le.fit_transform(hot_encoded_KNNdata['I_Recalled'])\n",
        "#hot_encoded_KNNdata['O_T'] = le.fit_transform(hot_encoded_KNNdata['O_T'])"
      ]
    },
    {
      "cell_type": "code",
      "source": [
        "#Importing the required modules\n",
        "import numpy as np\n",
        "from scipy.stats import mode\n",
        " \n",
        "#Euclidean Distance\n",
        "def eucledian(p1,p2):\n",
        "    dist = np.sqrt(np.sum((p1-p2)**2))\n",
        "    return dist\n",
        " \n",
        "#Function to calculate KNN\n",
        "def predict(x_train, y , x_input, k):\n",
        "    op_labels = []\n",
        "     \n",
        "    #Loop through the Datapoints to be classified\n",
        "    for item in x_input: \n",
        "         \n",
        "        point_dist = []\n",
        "         \n",
        "        #Loop through each training Data\n",
        "        for j in range(len(x_train)): \n",
        "            distances = eucledian(np.array(x_train[j,:]) , item) \n",
        "            #Calculating the distance\n",
        "            point_dist.append(distances) \n",
        "        point_dist = np.array(point_dist) \n",
        "         \n",
        "        #Sorting the array while preserving the index\n",
        "        #Keeping the first K datapoints\n",
        "        dist = np.argsort(point_dist)[:k] \n",
        "         \n",
        "        #Labels of the K datapoints from above\n",
        "        labels = y[dist]\n",
        "         \n",
        "        #Majority voting\n",
        "        lab = mode(labels) \n",
        "        lab = lab.mode[0]\n",
        "        op_labels.append(lab)\n",
        " \n",
        "    return op_labels"
      ],
      "metadata": {
        "id": "tBcwROOWAfPm"
      },
      "execution_count": 33,
      "outputs": []
    },
    {
      "cell_type": "code",
      "execution_count": 34,
      "metadata": {
        "id": "0AdEnqi9fDWx"
      },
      "outputs": [],
      "source": [
        "kx = hot_encoded_KNNdata.drop(['O_T'],axis=1)\n",
        "ky = hot_encoded_KNNdata['O_T']"
      ]
    },
    {
      "cell_type": "code",
      "execution_count": 35,
      "metadata": {
        "id": "vbFsdsvbbp-L"
      },
      "outputs": [],
      "source": [
        "# Import necessary modules\n",
        "from sklearn.model_selection import train_test_split\n",
        " \n",
        "# Split into training and test set\n",
        "kx_train, kx_test, ky_train, ky_test = train_test_split(kx, ky, test_size = 0.2, random_state=42)"
      ]
    },
    {
      "cell_type": "code",
      "execution_count": 36,
      "metadata": {
        "id": "vhTXV9ZtbtjM"
      },
      "outputs": [],
      "source": [
        "#convert all dataframes to numpy array (to use our function)\n",
        "ky_train = ky_train.to_numpy()\n",
        "kx_train = kx_train.to_numpy()\n",
        "kx_test = kx_test.to_numpy()"
      ]
    },
    {
      "cell_type": "code",
      "execution_count": 37,
      "metadata": {
        "id": "H39b2LDhbw_v",
        "colab": {
          "base_uri": "https://localhost:8080/"
        },
        "outputId": "34f36247-2c97-4c70-d442-400393e1ef7f"
      },
      "outputs": [
        {
          "output_type": "execute_result",
          "data": {
            "text/plain": [
              "0.9988269794721407"
            ]
          },
          "metadata": {},
          "execution_count": 37
        }
      ],
      "source": [
        "#Applying our function \n",
        "ky_pred = predict(kx_train,ky_train,kx_test ,3)\n",
        "\n",
        "from sklearn.metrics import accuracy_score\n",
        "#Checking the accuracy\n",
        "accuracy_score(ky_test, ky_pred)"
      ]
    },
    {
      "cell_type": "code",
      "execution_count": 38,
      "metadata": {
        "id": "sOQmWw-Fb6sl",
        "colab": {
          "base_uri": "https://localhost:8080/"
        },
        "outputId": "e7c2fe54-d628-4648-d84e-5bf3a4e9a669"
      },
      "outputs": [
        {
          "output_type": "stream",
          "name": "stdout",
          "text": [
            "[[ 176    0    0    0]\n",
            " [   0 1131    0    0]\n",
            " [   0    0  174    0]\n",
            " [   0    2    0  222]]\n"
          ]
        }
      ],
      "source": [
        "from sklearn.metrics import confusion_matrix\n",
        "confusion_matrix = confusion_matrix(ky_test, ky_pred)\n",
        "print(confusion_matrix)"
      ]
    },
    {
      "cell_type": "code",
      "source": [
        "from sklearn.metrics import classification_report\n",
        "print(classification_report(ky_test, ky_pred))"
      ],
      "metadata": {
        "id": "mElj0KfDRLbb",
        "colab": {
          "base_uri": "https://localhost:8080/"
        },
        "outputId": "df6f658f-4240-46b5-d3c1-fb86133b1e40"
      },
      "execution_count": 39,
      "outputs": [
        {
          "output_type": "stream",
          "name": "stdout",
          "text": [
            "               precision    recall  f1-score   support\n",
            "\n",
            "       C-Town       1.00      1.00      1.00       176\n",
            "    Carrefour       1.00      1.00      1.00      1131\n",
            "        Cozmo       1.00      1.00      1.00       174\n",
            "Family Basket       1.00      0.99      1.00       224\n",
            "\n",
            "     accuracy                           1.00      1705\n",
            "    macro avg       1.00      1.00      1.00      1705\n",
            " weighted avg       1.00      1.00      1.00      1705\n",
            "\n"
          ]
        }
      ]
    },
    {
      "cell_type": "code",
      "source": [
        "# A correlation matrix is a table showing the correlation coefficients between a set of variables. \n",
        "# Each cell in the table represents the correlation between two variables. \n",
        "# A correlation matrix is used to summarize data and find patterns among multiple variables.\n",
        "\n",
        "# The matrix you provided seems to be a 4x4 matrix, where each entry (i,j) is\n",
        "# the correlation coefficient between the ith and jth variables.\n",
        "\n",
        "#Since the diagonal elements are all positive and large, it suggests that the\n",
        "# variables are positively correlated with themselves \n",
        "# (i.e., they are perfectly correlated with themselves). \n",
        "# And the off-diagonal elements (i.e., non-diagonal elements) are all zero,\n",
        "# it suggest that variables are not correlated with each other."
      ],
      "metadata": {
        "id": "broAw4b-lQyw"
      },
      "execution_count": 40,
      "outputs": []
    }
  ],
  "metadata": {
    "colab": {
      "toc_visible": true,
      "provenance": []
    },
    "kernelspec": {
      "display_name": "Python 3",
      "name": "python3"
    },
    "language_info": {
      "name": "python"
    }
  },
  "nbformat": 4,
  "nbformat_minor": 0
}